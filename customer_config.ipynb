{
 "cells": [
  {
   "cell_type": "code",
   "execution_count": 2,
   "metadata": {},
   "outputs": [],
   "source": [
    "from google.cloud.sql.connector import Connector, IPTypes\n",
    "import pg8000\n",
    "from sqlalchemy import text, create_engine\n",
    "\n",
    "ICN = \"jukebox-446711:southamerica-east1:jukebox\" \n",
    "\n",
    "def get_super_conn() -> pg8000.dbapi.Connection:\n",
    "    \"\"\"Initializes a connection to the Cloud SQL PostgreSQL instance.\"\"\"\n",
    "    connector = Connector()\n",
    "    conn = connector.connect(\n",
    "        ICN,\n",
    "        \"pg8000\",\n",
    "        user=\"postgres\",\n",
    "        password=\"k]a-hXIRZ0taLT}K\",\n",
    "        db=\"postgres\",\n",
    "        ip_type=IPTypes.PUBLIC  # or IPTypes.PRIVATE if applicable\n",
    "    )\n",
    "    return conn\n",
    "\n",
    "def set_new_user_access(DB_USER):\n",
    "    # Garantir acesso a novo usuário\n",
    "    print(\"my log - 006 - garantindo acessos ao usuário:\", DB_USER)\n",
    "    query = f\"\"\"\n",
    "GRANT USAGE ON SCHEMA public TO {DB_USER};\n",
    "GRANT CONNECT ON DATABASE postgres TO {DB_USER};\n",
    "GRANT SELECT, INSERT ON artistas TO {DB_USER};\n",
    "GRANT USAGE ON SEQUENCE public.artistas_id_seq TO {DB_USER};\n",
    "GRANT SELECT ON SEQUENCE public.artistas_id_seq TO {DB_USER};\n",
    "GRANT SELECT, INSERT, UPDATE ON configurations TO {DB_USER};\n",
    "GRANT USAGE ON SEQUENCE public.configurations_id_seq TO {DB_USER};\n",
    "GRANT SELECT ON SEQUENCE public.configurations_id_seq TO {DB_USER};\n",
    "GRANT SELECT, INSERT ON generos TO {DB_USER};\n",
    "GRANT USAGE ON SEQUENCE public.generos_id_seq TO {DB_USER};\n",
    "GRANT SELECT ON SEQUENCE public.generos_id_seq TO {DB_USER};\n",
    "GRANT SELECT, INSERT ON likes TO {DB_USER};\n",
    "GRANT USAGE ON SEQUENCE public.likes_id_seq TO {DB_USER};\n",
    "GRANT SELECT ON SEQUENCE public.likes_id_seq TO {DB_USER};\n",
    "GRANT SELECT, INSERT ON pedidos TO {DB_USER};\n",
    "GRANT USAGE ON SEQUENCE public.pedidos_id_seq TO {DB_USER};\n",
    "GRANT SELECT ON SEQUENCE public.pedidos_id_seq TO {DB_USER};\n",
    "GRANT SELECT, INSERT ON tracks TO {DB_USER};\n",
    "GRANT SELECT, INSERT ON users TO {DB_USER};\n",
    "GRANT USAGE ON SEQUENCE public.users_id_seq TO {DB_USER};\n",
    "GRANT SELECT ON SEQUENCE public.users_id_seq TO {DB_USER};\n",
    "GRANT SELECT, INSERT, UPDATE ON sessions TO {DB_USER};\n",
    "GRANT USAGE ON SEQUENCE public.sessions_id_seq TO {DB_USER};\n",
    "GRANT SELECT ON SEQUENCE public.sessions_id_seq TO {DB_USER};\n",
    "GRANT SELECT, INSERT, UPDATE ON instances TO {DB_USER};\n",
    "GRANT SELECT, INSERT, UPDATE ON genre_lists TO {DB_USER};\n",
    "GRANT USAGE ON SEQUENCE public.genre_lists_id_seq TO {DB_USER};\n",
    "GRANT SELECT ON SEQUENCE public.genre_lists_id_seq TO {DB_USER};\n",
    "GRANT SELECT, INSERT, UPDATE, DELETE ON promos TO {DB_USER};\n",
    "GRANT USAGE ON SEQUENCE public.promos_id_seq TO {DB_USER};\n",
    "GRANT SELECT ON SEQUENCE public.promos_id_seq TO {DB_USER};\n",
    "\"\"\"\n",
    "    try:\n",
    "        print(\"my log - 007 - Logando com superuser\")\n",
    "        pool = create_engine(\"postgresql+pg8000://\", creator=get_super_conn)\n",
    "        with pool.connect() as conn:\n",
    "            conn.execute(text(query))\n",
    "            conn.commit()\n",
    "        return True\n",
    "    except Exception as e:\n",
    "        print(\"my log - 007 - Erro ao conectar superuser ao banco de dados:\", e)\n",
    "        return False    \n",
    "\n",
    "def create_intance(instance,cliente, cloud_url ):\n",
    "    query = f\"\"\"\n",
    "INSERT INTO instances (instance, cliente, cloud_url)\n",
    "VALUES ('{instance}', '{cliente}', '{cloud_url}');\n",
    "    \"\"\"\n",
    "    try:\n",
    "        print(\"criando instance\")\n",
    "        pool = create_engine(\"postgresql+pg8000://\", creator=get_super_conn)\n",
    "        with pool.connect() as conn:\n",
    "            conn.execute(text(query))\n",
    "            conn.commit()\n",
    "        return True\n",
    "    except Exception as e:\n",
    "        print(\"my log - 007 - Erro ao criar instance:\", e)\n",
    "        return False   "
   ]
  },
  {
   "cell_type": "code",
   "execution_count": 3,
   "metadata": {},
   "outputs": [
    {
     "name": "stdout",
     "output_type": "stream",
     "text": [
      "my log - 006 - garantindo acessos ao usuário: felipane\n",
      "my log - 007 - Logando com superuser\n"
     ]
    },
    {
     "data": {
      "text/plain": [
       "True"
      ]
     },
     "execution_count": 3,
     "metadata": {},
     "output_type": "execute_result"
    }
   ],
   "source": [
    "set_new_user_access('felipane')"
   ]
  },
  {
   "cell_type": "code",
   "execution_count": 6,
   "metadata": {},
   "outputs": [
    {
     "name": "stdout",
     "output_type": "stream",
     "text": [
      "criando instance\n"
     ]
    },
    {
     "data": {
      "text/plain": [
       "True"
      ]
     },
     "execution_count": 6,
     "metadata": {},
     "output_type": "execute_result"
    }
   ],
   "source": [
    "create_intance('jukebox', 'inspiria', 'https://jukebox-hrbec6un6a-rj.a.run.app')"
   ]
  }
 ],
 "metadata": {
  "kernelspec": {
   "display_name": "jukebox_env",
   "language": "python",
   "name": "python3"
  },
  "language_info": {
   "codemirror_mode": {
    "name": "ipython",
    "version": 3
   },
   "file_extension": ".py",
   "mimetype": "text/x-python",
   "name": "python",
   "nbconvert_exporter": "python",
   "pygments_lexer": "ipython3",
   "version": "3.11.4"
  }
 },
 "nbformat": 4,
 "nbformat_minor": 2
}
